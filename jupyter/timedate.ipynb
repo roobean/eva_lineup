{
 "cells": [
  {
   "cell_type": "code",
   "execution_count": 78,
   "metadata": {},
   "outputs": [],
   "source": [
    "import pandas as pd\n",
    "from datetime import datetime, time, date"
   ]
  },
  {
   "cell_type": "code",
   "execution_count": 79,
   "metadata": {},
   "outputs": [],
   "source": [
    "df = pd.read_csv(\"../outputs/full_07_datetime.csv\")"
   ]
  },
  {
   "cell_type": "code",
   "execution_count": 80,
   "metadata": {},
   "outputs": [
    {
     "data": {
      "text/plain": [
       "0       03/21/18 14:53:59\n",
       "1       03/21/18 14:53:59\n",
       "2       03/21/18 14:53:59\n",
       "3       03/21/18 14:53:59\n",
       "4       03/21/18 14:53:59\n",
       "              ...        \n",
       "8079    11/04/17 10:27:22\n",
       "8080    11/04/17 10:27:22\n",
       "8081    11/04/17 10:27:22\n",
       "8082    11/04/17 10:27:22\n",
       "8083    11/04/17 10:27:22\n",
       "Name: datetime, Length: 8084, dtype: object"
      ]
     },
     "execution_count": 80,
     "metadata": {},
     "output_type": "execute_result"
    }
   ],
   "source": [
    "df.datetime"
   ]
  },
  {
   "cell_type": "code",
   "execution_count": 81,
   "metadata": {},
   "outputs": [
    {
     "data": {
      "text/plain": [
       "datetime.datetime(2018, 3, 21, 14, 53, 59)"
      ]
     },
     "execution_count": 81,
     "metadata": {},
     "output_type": "execute_result"
    }
   ],
   "source": [
    "x = datetime.strptime(df['datetime'][0], '%m/%d/%y %H:%M:%S')\n",
    "x"
   ]
  },
  {
   "cell_type": "code",
   "execution_count": 82,
   "metadata": {},
   "outputs": [
    {
     "data": {
      "text/plain": [
       "datetime.date(2018, 3, 21)"
      ]
     },
     "execution_count": 82,
     "metadata": {},
     "output_type": "execute_result"
    }
   ],
   "source": [
    "x.date()"
   ]
  },
  {
   "cell_type": "code",
   "execution_count": 83,
   "metadata": {},
   "outputs": [
    {
     "data": {
      "text/plain": [
       "datetime.datetime(2011, 1, 1, 10, 23)"
      ]
     },
     "execution_count": 83,
     "metadata": {},
     "output_type": "execute_result"
    }
   ],
   "source": [
    "datetime.combine(date(2011, 1, 1), time(10, 23))"
   ]
  },
  {
   "cell_type": "code",
   "execution_count": 84,
   "metadata": {},
   "outputs": [
    {
     "data": {
      "text/plain": [
       "datetime.time(0, 0)"
      ]
     },
     "execution_count": 84,
     "metadata": {},
     "output_type": "execute_result"
    }
   ],
   "source": [
    "time.fromisoformat(df['lecture_time'][0])"
   ]
  },
  {
   "cell_type": "code",
   "execution_count": 101,
   "metadata": {},
   "outputs": [
    {
     "data": {
      "text/plain": [
       "['2017-04-11 10:00:00',\n",
       " '2017-04-11 11:00:00',\n",
       " '2017-04-11 14:00:00',\n",
       " '2017-11-04 10:00:00',\n",
       " '2017-11-04 11:00:00',\n",
       " '2017-11-04 13:00:00',\n",
       " '2017-11-04 14:00:00',\n",
       " '2017-12-02 10:00:00',\n",
       " '2017-12-02 11:00:00',\n",
       " '2017-12-02 13:00:00',\n",
       " '2017-12-02 14:00:00',\n",
       " '2018-02-07 00:00:00',\n",
       " '2018-02-14 00:00:00',\n",
       " '2018-02-21 00:00:00',\n",
       " '2018-03-21 00:00:00',\n",
       " '2018-07-02 00:00:00',\n",
       " '2018-10-06 10:00:00',\n",
       " '2018-10-06 12:00:00',\n",
       " '2018-10-06 13:00:00',\n",
       " '2018-11-10 10:00:00',\n",
       " '2018-11-10 10:45:00',\n",
       " '2018-11-10 11:30:00',\n",
       " '2018-11-10 12:15:00',\n",
       " '2018-11-10 13:00:00',\n",
       " '2018-12-01 10:00:00',\n",
       " '2018-12-01 12:00:00']"
      ]
     },
     "execution_count": 101,
     "metadata": {},
     "output_type": "execute_result"
    }
   ],
   "source": [
    "a = list(df['new_datetime'].unique())\n",
    "a.sort()\n",
    "a"
   ]
  },
  {
   "cell_type": "code",
   "execution_count": 87,
   "metadata": {},
   "outputs": [
    {
     "data": {
      "text/plain": [
       "array([4583. , 4046. , 3671. , 6456.5, 7411. , 7034.5, 6802.5, 6711. ,\n",
       "       3215.5, 4958. , 5893.5, 5287.5, 6253.5, 2870. , 2564.5, 2122.5,\n",
       "       1871. , 7916.5, 7664. ,  616.5,  129.5, 1752.5,   59. , 1363.5,\n",
       "        176.5,  121.5])"
      ]
     },
     "execution_count": 87,
     "metadata": {},
     "output_type": "execute_result"
    }
   ],
   "source": [
    "df['rank'].unique()"
   ]
  },
  {
   "cell_type": "code",
   "execution_count": 108,
   "metadata": {},
   "outputs": [],
   "source": [
    "myList = ['this, that']"
   ]
  },
  {
   "cell_type": "code",
   "execution_count": 111,
   "metadata": {},
   "outputs": [
    {
     "name": "stdout",
     "output_type": "stream",
     "text": [
      "0 this, that\n"
     ]
    }
   ],
   "source": [
    "for i, value in enumerate(myList):\n",
    "    print(i, value)"
   ]
  },
  {
   "cell_type": "code",
   "execution_count": null,
   "metadata": {},
   "outputs": [],
   "source": []
  },
  {
   "cell_type": "code",
   "execution_count": null,
   "metadata": {},
   "outputs": [],
   "source": []
  },
  {
   "cell_type": "code",
   "execution_count": null,
   "metadata": {},
   "outputs": [],
   "source": []
  }
 ],
 "metadata": {
  "kernelspec": {
   "display_name": "Python 3",
   "language": "python",
   "name": "python3"
  },
  "language_info": {
   "codemirror_mode": {
    "name": "ipython",
    "version": 3
   },
   "file_extension": ".py",
   "mimetype": "text/x-python",
   "name": "python",
   "nbconvert_exporter": "python",
   "pygments_lexer": "ipython3",
   "version": "3.7.3"
  }
 },
 "nbformat": 4,
 "nbformat_minor": 4
}
