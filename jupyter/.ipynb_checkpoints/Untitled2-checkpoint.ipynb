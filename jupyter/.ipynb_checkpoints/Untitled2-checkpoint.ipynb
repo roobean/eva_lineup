{
 "cells": [
  {
   "cell_type": "code",
   "execution_count": 54,
   "metadata": {},
   "outputs": [],
   "source": [
    "import pandas as pd\n",
    "from pprint import pprint\n",
    "from datetime import datetime, time"
   ]
  },
  {
   "cell_type": "code",
   "execution_count": 3,
   "metadata": {},
   "outputs": [],
   "source": [
    "df = pd.read_csv('../outputs/full_03_member_definition.csv')"
   ]
  },
  {
   "cell_type": "code",
   "execution_count": 4,
   "metadata": {},
   "outputs": [
    {
     "data": {
      "text/plain": [
       "6    2979\n",
       "3    1021\n",
       "2    1021\n",
       "5    1021\n",
       "1    1021\n",
       "4    1021\n",
       "Name: member, dtype: int64"
      ]
     },
     "execution_count": 4,
     "metadata": {},
     "output_type": "execute_result"
    }
   ],
   "source": [
    "df['member'].value_counts(dropna=False)"
   ]
  },
  {
   "cell_type": "code",
   "execution_count": 10,
   "metadata": {},
   "outputs": [
    {
     "data": {
      "text/plain": [
       "lineup_videoVIPER.osexp      2077\n",
       "lineup_videoFB.osexp         1971\n",
       "lineup_videoVIPER_W.osexp    1000\n",
       "lineup_liveWOMEN.osexp        991\n",
       "lineup_liveMEN.osexp          925\n",
       "lineup_videoFB_W.osexp        733\n",
       "lineup_liveMEN_W.osexp        204\n",
       "lineup_liveWOMEN_W.osexp      183\n",
       "Name: experiment_file, dtype: int64"
      ]
     },
     "execution_count": 10,
     "metadata": {},
     "output_type": "execute_result"
    }
   ],
   "source": [
    "df['experiment_file'].value_counts(dropna=False)"
   ]
  },
  {
   "cell_type": "code",
   "execution_count": 11,
   "metadata": {},
   "outputs": [],
   "source": [
    "df = pd.read_csv('../outputs/full_04_condition_added.csv')"
   ]
  },
  {
   "cell_type": "code",
   "execution_count": 13,
   "metadata": {},
   "outputs": [
    {
     "data": {
      "text/plain": [
       "HS      3077\n",
       "FB      2704\n",
       "live    2303\n",
       "Name: condition, dtype: int64"
      ]
     },
     "execution_count": 13,
     "metadata": {},
     "output_type": "execute_result"
    }
   ],
   "source": [
    "df['condition'].value_counts(dropna=False)"
   ]
  },
  {
   "cell_type": "code",
   "execution_count": 21,
   "metadata": {},
   "outputs": [],
   "source": [
    "df3 = pd.read_csv('../outputs/full_05_target_value_added.csv')"
   ]
  },
  {
   "cell_type": "code",
   "execution_count": 27,
   "metadata": {},
   "outputs": [
    {
     "data": {
      "text/plain": [
       "0       False\n",
       "1       False\n",
       "2       False\n",
       "3       False\n",
       "4       False\n",
       "        ...  \n",
       "8079     True\n",
       "8080     True\n",
       "8081     True\n",
       "8082     True\n",
       "8083     True\n",
       "Name: target, Length: 8084, dtype: bool"
      ]
     },
     "execution_count": 27,
     "metadata": {},
     "output_type": "execute_result"
    }
   ],
   "source": [
    "df3.target.isna()"
   ]
  },
  {
   "cell_type": "code",
   "execution_count": 28,
   "metadata": {},
   "outputs": [],
   "source": [
    "df4 = pd.read_csv('../outputs/full_06_pruning_columns.csv')"
   ]
  },
  {
   "cell_type": "code",
   "execution_count": 36,
   "metadata": {},
   "outputs": [
    {
     "data": {
      "text/plain": [
       "NaN        2120\n",
       "1pm        1609\n",
       "10am       1429\n",
       "11am       1146\n",
       "12am        688\n",
       "12.15pm     416\n",
       "12noon      288\n",
       "2pm         157\n",
       "10.45am     135\n",
       "11.30am      48\n",
       "12 noon      48\n",
       "Name: lecture_time, dtype: int64"
      ]
     },
     "execution_count": 36,
     "metadata": {},
     "output_type": "execute_result"
    }
   ],
   "source": [
    "df4['lecture_time'].value_counts(dropna=False)"
   ]
  },
  {
   "cell_type": "code",
   "execution_count": 67,
   "metadata": {},
   "outputs": [],
   "source": [
    "df4['lecture_time'] = df4['lecture_time'].fillna(\"zubr\", inplace=True)"
   ]
  },
  {
   "cell_type": "code",
   "execution_count": 68,
   "metadata": {},
   "outputs": [],
   "source": [
    "lecture_time_dict = {\n",
    "    \"zubr\": time(0,0),\n",
    "    \"1pm\": time(13),\n",
    "    \"10am\": time(10),\n",
    "    \"11am\": time(11),\n",
    "    \"12am\": time(12),\n",
    "    \"12.15pm\": time(12,15),\n",
    "    \"12noon\": time(12),\n",
    "    \"2pm\": time(14),\n",
    "    \"10.45am\": time(10,45),\n",
    "    \"11.30am\": time(11,30),\n",
    "    \"12 noon\": time(12,0),\n",
    "}\n",
    "df4[\"lecture_time\"] = df[\"lecture_time\"].map(lecture_time_dict)"
   ]
  },
  {
   "cell_type": "code",
   "execution_count": 69,
   "metadata": {},
   "outputs": [
    {
     "data": {
      "text/plain": [
       "NaN         2120\n",
       "13:00:00    1609\n",
       "10:00:00    1429\n",
       "11:00:00    1146\n",
       "12:00:00    1024\n",
       "12:15:00     416\n",
       "14:00:00     157\n",
       "10:45:00     135\n",
       "11:30:00      48\n",
       "Name: lecture_time, dtype: int64"
      ]
     },
     "execution_count": 69,
     "metadata": {},
     "output_type": "execute_result"
    }
   ],
   "source": [
    "df4[\"lecture_time\"].value_counts(dropna=False)"
   ]
  },
  {
   "cell_type": "code",
   "execution_count": null,
   "metadata": {},
   "outputs": [],
   "source": []
  }
 ],
 "metadata": {
  "kernelspec": {
   "display_name": "Python 3",
   "language": "python",
   "name": "python3"
  },
  "language_info": {
   "codemirror_mode": {
    "name": "ipython",
    "version": 3
   },
   "file_extension": ".py",
   "mimetype": "text/x-python",
   "name": "python",
   "nbconvert_exporter": "python",
   "pygments_lexer": "ipython3",
   "version": "3.7.3"
  }
 },
 "nbformat": 4,
 "nbformat_minor": 4
}
