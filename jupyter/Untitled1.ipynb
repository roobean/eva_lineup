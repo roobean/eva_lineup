{
 "cells": [
  {
   "cell_type": "code",
   "execution_count": 2,
   "metadata": {},
   "outputs": [],
   "source": [
    "import pandas as pd\n",
    "from pprint import pprint\n",
    "df = pd.read_csv('../outputs/all_member.csv')"
   ]
  },
  {
   "cell_type": "code",
   "execution_count": 3,
   "metadata": {},
   "outputs": [
    {
     "data": {
      "text/plain": [
       "12/01/18 13:08:50    53\n",
       "12/02/17 14:01:59    39\n",
       "11/04/17 12:21:14    39\n",
       "10/06/18 12:45:09    39\n",
       "11/04/2017 11:09     39\n",
       "02/21/18 15:30:33    39\n",
       "11/10/18 10:47:20    39\n",
       "02/07/18 15:32:46    37\n",
       "11/04/2017 11:19     37\n",
       "11/10/18 13:48:03    36\n",
       "10/06/18 11:32:02    34\n",
       "11/04/17 12:34:38    34\n",
       "12/02/17 14:01:53    33\n",
       "12/02/17 14:01:34    32\n",
       "02/21/18 14:51:03    32\n",
       "12/02/17 11:48:49    32\n",
       "03/21/18 15:29:03    32\n",
       "10/06/18 12:44:23    32\n",
       "12/02/17 14:16:55    32\n",
       "11/04/17 13:59:11    32\n",
       "11/04/17 12:06:07    32\n",
       "11/04/17 11:45:35    32\n",
       "11/04/17 13:56:51    32\n",
       "02/07/18 15:18:20    32\n",
       "12/01/18 13:01:49    32\n",
       "02/07/18 15:09:49    28\n",
       "03/21/18 15:05:20    27\n",
       "12/01/18 12:53:36    27\n",
       "11/10/18 10:57:17    27\n",
       "02/21/18 15:17:46    27\n",
       "                     ..\n",
       "10/06/18 13:03:43     8\n",
       "11/10/18 13:41:21     8\n",
       "11/10/18 11:26:07     8\n",
       "12/02/17 11:20:50     8\n",
       "12/02/17 14:03:12     8\n",
       "11/04/17 14:35:26     8\n",
       "11/10/18 13:55:20     8\n",
       "10/06/18 11:05:29     8\n",
       "02/14/18 15:23:02     8\n",
       "10/06/18 12:55:42     8\n",
       "11/04/17 11:52:25     8\n",
       "11/04/17 12:10:47     8\n",
       "12/01/18 13:08:18     8\n",
       "02/21/18 15:39:55     8\n",
       "02/14/18 14:49:42     8\n",
       "11/10/18 11:26:25     8\n",
       "10/06/18 12:51:20     8\n",
       "11/04/17 11:41:08     8\n",
       "12/02/17 13:41:25     8\n",
       "10/06/18 11:08:57     8\n",
       "11/04/17 14:59:52     8\n",
       "11/10/18 12:27:46     8\n",
       "10/06/18 13:27:41     8\n",
       "12/01/18 13:16:19     8\n",
       "11/04/17 14:22:50     8\n",
       "11/04/17 14:52:15     8\n",
       "02/21/18 15:46:50     8\n",
       "11/04/17 14:26:48     8\n",
       "10/06/18 11:30:31     8\n",
       "10/06/18 14:00:00     6\n",
       "Name: datetime, Length: 564, dtype: int64"
      ]
     },
     "execution_count": 3,
     "metadata": {},
     "output_type": "execute_result"
    }
   ],
   "source": [
    "df['datetime'].value_counts()"
   ]
  },
  {
   "cell_type": "code",
   "execution_count": 5,
   "metadata": {
    "collapsed": true,
    "jupyter": {
     "outputs_hidden": true
    }
   },
   "outputs": [
    {
     "data": {
      "text/plain": [
       "lineup_videoVIPER.osexp      2311\n",
       "lineup_videoFB.osexp         2191\n",
       "lineup_videoVIPER_W.osexp    1125\n",
       "lineup_liveWOMEN.osexp        991\n",
       "lineup_liveMEN.osexp          931\n",
       "lineup_videoFB_W.osexp        821\n",
       "lineup_liveMEN_W.osexp        204\n",
       "lineup_liveWOMEN_W.osexp      183\n",
       "Name: experiment_file, dtype: int64"
      ]
     },
     "execution_count": 5,
     "metadata": {},
     "output_type": "execute_result"
    }
   ],
   "source": [
    "df['experiment_file'].value_counts()"
   ]
  },
  {
   "cell_type": "code",
   "execution_count": 5,
   "metadata": {},
   "outputs": [
    {
     "data": {
      "text/plain": [
       "NaN        2333\n",
       "1pm        1731\n",
       "10am       1538\n",
       "11am       1234\n",
       "12am        744\n",
       "12.15pm     457\n",
       "12noon      310\n",
       "2pm         163\n",
       "10.45am     143\n",
       "11.30am      50\n",
       "12 noon      48\n",
       "no            6\n",
       "Name: lecture_time, dtype: int64"
      ]
     },
     "execution_count": 5,
     "metadata": {},
     "output_type": "execute_result"
    }
   ],
   "source": [
    "df['lecture_time'].value_counts(dropna=False)"
   ]
  }
 ],
 "metadata": {
  "kernelspec": {
   "display_name": "Python 3",
   "language": "python",
   "name": "python3"
  },
  "language_info": {
   "codemirror_mode": {
    "name": "ipython",
    "version": 3
   },
   "file_extension": ".py",
   "mimetype": "text/x-python",
   "name": "python",
   "nbconvert_exporter": "python",
   "pygments_lexer": "ipython3",
   "version": "3.7.3"
  }
 },
 "nbformat": 4,
 "nbformat_minor": 4
}
