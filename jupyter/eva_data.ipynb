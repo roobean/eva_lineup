{
 "cells": [
  {
   "cell_type": "code",
   "execution_count": 1,
   "metadata": {},
   "outputs": [],
   "source": [
    "import pandas as pd\n",
    "from pprint import pprint"
   ]
  },
  {
   "cell_type": "code",
   "execution_count": 2,
   "metadata": {},
   "outputs": [],
   "source": [
    "df = pd.read_csv('../outputs/full_condition.csv')"
   ]
  },
  {
   "cell_type": "code",
   "execution_count": 3,
   "metadata": {},
   "outputs": [
    {
     "data": {
      "text/plain": [
       "No          6272\n",
       "Not sure    1108\n",
       "Yes          709\n",
       "NaN          668\n",
       "Name: identification, dtype: int64"
      ]
     },
     "execution_count": 3,
     "metadata": {},
     "output_type": "execute_result"
    }
   ],
   "source": [
    "df['identification'].value_counts(dropna=False)"
   ]
  },
  {
   "cell_type": "code",
   "execution_count": 4,
   "metadata": {
    "collapsed": true,
    "jupyter": {
     "outputs_hidden": true
    }
   },
   "outputs": [
    {
     "name": "stdout",
     "output_type": "stream",
     "text": [
      "['Unnamed: 0',\n",
      " 'Unnamed: 0.1',\n",
      " 'Unnamed: 0.1.1',\n",
      " 'Unnamed: 0.1.1.1',\n",
      " 'acc',\n",
      " 'accuracy',\n",
      " 'average_response_time',\n",
      " 'avg_rt',\n",
      " 'confidence_immediate',\n",
      " 'correct',\n",
      " 'correct_live_view',\n",
      " 'count_TA_sequence_setting',\n",
      " 'count_TP_sequence_setting',\n",
      " 'count_admin_check',\n",
      " 'count_check_TA',\n",
      " 'count_check_TP',\n",
      " 'count_check_confidence_imm',\n",
      " 'count_check_identification',\n",
      " 'count_check_made_identification',\n",
      " 'count_check_multiple_identification',\n",
      " 'count_check_proceeding_identification',\n",
      " 'count_check_time_of_exposure',\n",
      " 'count_confidence_imm',\n",
      " 'count_gender_lineup_loop',\n",
      " 'count_gender_randomization_sequence',\n",
      " 'count_identification_task',\n",
      " 'count_instructions',\n",
      " 'count_instructions_after_multiple',\n",
      " 'count_instructions_after_proceed_identification',\n",
      " 'count_instructions_before_view',\n",
      " 'count_instructions_sequence',\n",
      " 'count_lineup_loop',\n",
      " 'count_lineup_procedure_loop',\n",
      " 'count_lineup_procedure_sequence',\n",
      " 'count_lineup_sequence',\n",
      " 'count_live_lineup',\n",
      " 'count_live_view',\n",
      " 'count_logger',\n",
      " 'count_made_identification',\n",
      " 'count_member_randomization_loop',\n",
      " 'count_member_randomization_sequence',\n",
      " 'count_multiple_identification',\n",
      " 'count_proceed_identification',\n",
      " 'count_repeat_lineup_sequence_identification',\n",
      " 'count_repeat_lineup_sequence_multiple',\n",
      " 'count_setting_sequence',\n",
      " 'count_target_setting',\n",
      " 'count_target_setting_loop',\n",
      " 'count_target_setting_sequence',\n",
      " 'count_time_of_exposure',\n",
      " 'count_video',\n",
      " 'cursor_x',\n",
      " 'cursor_y',\n",
      " 'datetime',\n",
      " 'experiment_file',\n",
      " 'experiment_path',\n",
      " 'form_response',\n",
      " 'gender',\n",
      " 'height',\n",
      " 'identification',\n",
      " 'identification_made',\n",
      " 'identification_multiple',\n",
      " 'identification_proceed',\n",
      " 'lecture_time',\n",
      " 'live_row',\n",
      " 'live_row_instructions',\n",
      " 'live_row_lineup_loop',\n",
      " 'live_row_live_lineup',\n",
      " 'live_row_target_setting_loop',\n",
      " 'logfile',\n",
      " 'member',\n",
      " 'member1',\n",
      " 'member2',\n",
      " 'member3',\n",
      " 'member4',\n",
      " 'member5',\n",
      " 'member6',\n",
      " 'opensesame_version',\n",
      " 'path_file',\n",
      " 'response',\n",
      " 'response_live_view',\n",
      " 'response_time',\n",
      " 'response_time_live_view',\n",
      " 'subject_nr',\n",
      " 'subject_parity',\n",
      " 'target',\n",
      " 'target1',\n",
      " 'target2',\n",
      " 'time_TA_sequence_setting',\n",
      " 'time_TP_sequence_setting',\n",
      " 'time_admin_check',\n",
      " 'time_check_TA',\n",
      " 'time_check_TP',\n",
      " 'time_check_confidence_imm',\n",
      " 'time_check_identification',\n",
      " 'time_check_made_identification',\n",
      " 'time_check_multiple_identification',\n",
      " 'time_check_proceeding_identification',\n",
      " 'time_check_time_of_exposure',\n",
      " 'time_confidence_imm',\n",
      " 'time_end_of_experiment',\n",
      " 'time_experiment',\n",
      " 'time_gender_lineup_loop',\n",
      " 'time_gender_randomization_sequence',\n",
      " 'time_identification_task',\n",
      " 'time_instructions',\n",
      " 'time_instructions_after_multiple',\n",
      " 'time_instructions_after_proceed_identification',\n",
      " 'time_instructions_before_view',\n",
      " 'time_instructions_sequence',\n",
      " 'time_lineup_loop',\n",
      " 'time_lineup_procedure_loop',\n",
      " 'time_lineup_procedure_sequence',\n",
      " 'time_lineup_sequence',\n",
      " 'time_live_lineup',\n",
      " 'time_live_view',\n",
      " 'time_logger',\n",
      " 'time_made_identification',\n",
      " 'time_member_randomization_loop',\n",
      " 'time_member_randomization_sequence',\n",
      " 'time_multiple_identification',\n",
      " 'time_proceed_identification',\n",
      " 'time_repeat_lineup_sequence_identification',\n",
      " 'time_repeat_lineup_sequence_multiple',\n",
      " 'time_setting_sequence',\n",
      " 'time_target_setting',\n",
      " 'time_target_setting_loop',\n",
      " 'time_target_setting_sequence',\n",
      " 'time_time_of_exposure',\n",
      " 'time_video',\n",
      " 'total_correct',\n",
      " 'total_response_time',\n",
      " 'total_responses',\n",
      " 'trial',\n",
      " 'row_order',\n",
      " 'person',\n",
      " 'condition']\n"
     ]
    }
   ],
   "source": [
    "pprint(list(df.columns))"
   ]
  },
  {
   "cell_type": "code",
   "execution_count": 5,
   "metadata": {},
   "outputs": [
    {
     "data": {
      "text/plain": [
       "[target2]    3097\n",
       "[target1]    3044\n",
       "NaN          2616\n",
       "Name: target, dtype: int64"
      ]
     },
     "execution_count": 5,
     "metadata": {},
     "output_type": "execute_result"
    }
   ],
   "source": [
    "df['target'].value_counts(dropna=False)"
   ]
  },
  {
   "cell_type": "code",
   "execution_count": 8,
   "metadata": {},
   "outputs": [
    {
     "data": {
      "text/plain": [
       "3742    Room 2.09 live male_subject-95.csv\n",
       "3743    Room 2.09 live male_subject-95.csv\n",
       "3744    Room 2.09 live male_subject-95.csv\n",
       "3745    Room 2.09 live male_subject-95.csv\n",
       "3746    Room 2.09 live male_subject-95.csv\n",
       "3747    Room 2.09 live male_subject-95.csv\n",
       "Name: path_file, dtype: object"
      ]
     },
     "execution_count": 8,
     "metadata": {},
     "output_type": "execute_result"
    }
   ],
   "source": [
    "df[df['lecture_time']=='no']['path_file']"
   ]
  }
 ],
 "metadata": {
  "kernelspec": {
   "display_name": "Python 3",
   "language": "python",
   "name": "python3"
  },
  "language_info": {
   "codemirror_mode": {
    "name": "ipython",
    "version": 3
   },
   "file_extension": ".py",
   "mimetype": "text/x-python",
   "name": "python",
   "nbconvert_exporter": "python",
   "pygments_lexer": "ipython3",
   "version": "3.7.3"
  }
 },
 "nbformat": 4,
 "nbformat_minor": 4
}
